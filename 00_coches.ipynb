{
 "cells": [
  {
   "cell_type": "markdown",
   "id": "5dbf830a",
   "metadata": {},
   "source": [
    "# COCHES DE SEGUNDA MANO\n",
    "\n"
   ]
  },
  {
   "cell_type": "markdown",
   "id": "36041962",
   "metadata": {},
   "source": [
    "¿Por que se elegio el tema de coches usados?"
   ]
  },
  {
   "cell_type": "markdown",
   "id": "dbe24aee",
   "metadata": {},
   "source": [
    "¿Cual fue la motivacion de elegir ese tema?"
   ]
  },
  {
   "cell_type": "markdown",
   "id": "592e6904",
   "metadata": {},
   "source": [
    "¿Posible futuras aplicaciones proyectos ?"
   ]
  }
 ],
 "metadata": {
  "language_info": {
   "name": "python"
  }
 },
 "nbformat": 4,
 "nbformat_minor": 5
}
