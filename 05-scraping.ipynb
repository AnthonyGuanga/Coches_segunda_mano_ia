{
 "cells": [
  {
   "cell_type": "markdown",
   "id": "c0b6482b",
   "metadata": {},
   "source": [
    "# Trabajo de contexto con scraping"
   ]
  },
  {
   "cell_type": "markdown",
   "id": "72a6d6ad",
   "metadata": {},
   "source": [
    "### Primero debemos hacer loigin en una plataforma"
   ]
  },
  {
   "cell_type": "markdown",
   "id": "efe51696",
   "metadata": {},
   "source": [
    "- prueba del funcionamiento de la key "
   ]
  },
  {
   "cell_type": "code",
   "execution_count": 1,
   "id": "ac34d549",
   "metadata": {},
   "outputs": [
    {
     "name": "stdout",
     "output_type": "stream",
     "text": [
      "2 + 2 = 4\n",
      "\n"
     ]
    }
   ],
   "source": [
    "import os\n",
    "from openai import OpenAI\n",
    "from dotenv import load_dotenv\n",
    "\n",
    "load_dotenv()\n",
    "api_key = os.getenv('GOOGLE_API_KEY')\n",
    "\n",
    "MODEL = \"gemini-2.0-flash\"\n",
    "openai = OpenAI(base_url=\"https://generativelanguage.googleapis.com/v1beta\", api_key=api_key)\n",
    "\n",
    "response = openai.chat.completions.create(\n",
    " model=MODEL,\n",
    " messages=[{\"role\": \"user\", \"content\": \"¿Cuánto son 2 + 2?\"}]\n",
    ")\n",
    "\n",
    "print(response.choices[0].message.content)"
   ]
  },
  {
   "cell_type": "markdown",
   "id": "299a05c9",
   "metadata": {},
   "source": [
    "### Primeros pasos"
   ]
  },
  {
   "cell_type": "markdown",
   "id": "23758210",
   "metadata": {},
   "source": [
    "analizamos una pagina de coches de segunda mano para hacer scraping de dicha pagina "
   ]
  },
  {
   "cell_type": "code",
   "execution_count": 33,
   "id": "8591bcb6",
   "metadata": {},
   "outputs": [],
   "source": [
    "import requests\n",
    "from bs4 import BeautifulSoup\n",
    "\n",
    "# A class to represent a Webpage\n",
    "# Code from: https://github.com/ed-donner/llm_engineering \n",
    "\n",
    "# Some websites need you to use proper headers when fetching them:\n",
    "headers = {\n",
    " \"User-Agent\": \"Mozilla/5.0 (Windows NT 10.0; Win64; x64) AppleWebKit/537.36 (KHTML, like Gecko) Chrome/117.0.0.0 Safari/537.36\"\n",
    "}\n",
    "\n",
    "class Website:\n",
    "\n",
    "    def __init__(self, url):\n",
    "        \"\"\"\n",
    "        Create this Website object from the given url using the BeautifulSoup library\n",
    "        \"\"\"\n",
    "        self.url = url\n",
    "        response = requests.get(url, headers=headers)\n",
    "        soup = BeautifulSoup(response.content, 'html.parser')\n",
    "        self.title = soup.title.string if soup.title else \"No title found\"\n",
    "        for irrelevant in soup.body([\"script\", \"style\", \"img\", \"input\"]):\n",
    "            irrelevant.decompose()\n",
    "        self.text = soup.body.get_text(separator=\"\\n\", strip=True)"
   ]
  },
  {
   "cell_type": "code",
   "execution_count": 57,
   "id": "87833732",
   "metadata": {},
   "outputs": [
    {
     "name": "stdout",
     "output_type": "stream",
     "text": [
      "Concesionario segunda mano Madrid | Venta de coches ocasión\n",
      "oches\n",
      "Tablas GANVAM\n",
      "Coches km0\n",
      "Ofertas especiales \n"
     ]
    }
   ],
   "source": [
    "\n",
    "novak_url = \"https://www.autofesa.com/\"\n",
    "novak_web = Website(novak_url)\n",
    "print(novak_web.title)\n",
    "print(novak_web.text[350:400])"
   ]
  },
  {
   "cell_type": "code",
   "execution_count": 58,
   "id": "9af07d4a",
   "metadata": {},
   "outputs": [],
   "source": [
    "def user_prompt_for(website):\n",
    "   \n",
    "    user_prompt = (\n",
    "        f\"Analiza el siguiente sitio web de coches de segunda mano y genera un resumen en formato Markdown.\\n\"\n",
    "        f\"### Título del sitio:\\n{website.title}\\n\\n\"\n",
    "        \"### Instrucciones:\\n\"\n",
    "        \"- Resume el propósito principal del sitio (por ejemplo: compraventa, anuncios, concesionario, comparador, etc.).\\n\"\n",
    "        \"- Destaca la información clave sobre los vehículos ofrecidos (marcas, modelos, precios, kilometraje, ubicación, etc.).\\n\"\n",
    "        \"- Si hay noticias, reseñas o secciones informativas sobre automóviles, inclúyelas brevemente.\\n\"\n",
    "        \"- Usa encabezados y listas en Markdown para organizar la información.\\n\"\n",
    "        \"- Evita texto irrelevante como menús, publicidad o pies de página.\\n\\n\"\n",
    "        \"### Contenido del sitio:\\n\"\n",
    "        f\"{website.text.strip()}\\n\"\n",
    "    )\n",
    "    return user_prompt"
   ]
  },
  {
   "cell_type": "code",
   "execution_count": 59,
   "id": "c00280d4",
   "metadata": {},
   "outputs": [],
   "source": [
    "system_prompt = \"Eres un asistente que analiza el contenido de un sitio web \\\n",
    "                    y proporciona un resumen breve, ignorando el texto que podría estar relacionado con la navegación. \\\n",
    "                    No añades ningún comentario inicial ni final. \\\n",
    "                    Respondes en markdown. Respondes en español.\"\n",
    "\n",
    "\n",
    "def messages_for(website):\n",
    "    return [\n",
    "        {\"role\": \"system\", \"content\": system_prompt},\n",
    "        {\"role\": \"user\", \"content\": user_prompt_for(website)}\n",
    "    ]"
   ]
  },
  {
   "cell_type": "code",
   "execution_count": 60,
   "id": "390b5373",
   "metadata": {},
   "outputs": [],
   "source": [
    "def summarize(url):\n",
    "    website = Website(url)\n",
    "    response = openai.chat.completions.create(\n",
    "        model = MODEL,\n",
    "        messages = messages_for(website)\n",
    "    )\n",
    "    return response.choices[0].message.content"
   ]
  },
  {
   "cell_type": "code",
   "execution_count": 61,
   "id": "9d4f2784",
   "metadata": {},
   "outputs": [
    {
     "data": {
      "text/plain": [
       "'# Concesionario Autofesa: Venta de coches de segunda mano y ocasión\\n\\nAutofesa es un concesionario online con presencia física en Madrid, especializado en la compra y venta de coches y motos de segunda mano y ocasión.\\n\\n## Información clave:\\n\\n*   **Propósito:** Compraventa de vehículos de segunda mano y ocasión (coches y motos). También compran vehículos usados.\\n*   **Ubicación:** Madrid (Collado Villalba, Leganés, Aravaca).\\n*   **Vehículos ofrecidos:**\\n    *   Amplia variedad de marcas y modelos.\\n    *   Kilometraje y precios variables.\\n    *   Disponibilidad de utilitarios, berlinas, familiares, todoterrenos, deportivos, monovolúmenes, eléctricos, híbridos, furgonetas y motocicletas.\\n    *   Opciones de coches KM 0, liquidación y ofertas especiales.\\n*   **Servicios:**\\n    *   Financiación.\\n    *   Tasación online de vehículos para venta.\\n    *   Garantía en vehículos.\\n    *   Entrega a domicilio en toda la península (Ver condiciones).\\n    *   Taller propio para revisión y reparación de vehículos.\\n*   **Marcas Destacadas:** Audi, BMW, MINI, Mercedes-Benz, Volkswagen, Renault, Volvo, Citroen, Peugeot.\\n*   **Ejemplos de coches:** Peugeot 208 (2019, 67.300km, 8.450€), Volvo XC 60 (2014, 121.000km, 17.450€), Mazda 6 (2018, 115.900km, 15.800€), Jaguar E-Pace (2019, 110.300km, 16.850€).\\n*   **Motos:** También ofrece motos de segunda mano, por ejemplo, SYM CRUISYM 125 (2020, 7.100km, 3.180€).\\n'"
      ]
     },
     "execution_count": 61,
     "metadata": {},
     "output_type": "execute_result"
    }
   ],
   "source": [
    "summarize(novak_url)"
   ]
  },
  {
   "cell_type": "code",
   "execution_count": 62,
   "id": "1192308f",
   "metadata": {},
   "outputs": [],
   "source": [
    "from IPython.display import Markdown, display\n",
    "\n",
    "def display_summary(url):\n",
    "    summary = summarize(url)\n",
    "    display(Markdown(summary))"
   ]
  },
  {
   "cell_type": "code",
   "execution_count": 63,
   "id": "90b7d4f3",
   "metadata": {},
   "outputs": [
    {
     "data": {
      "text/markdown": [
       "# Concesionario Autofesa: Venta de coches de segunda mano y ocasión en Madrid\n",
       "\n",
       "Autofesa es un concesionario online y físico especializado en la compraventa de coches y motos de segunda mano y ocasión. Ofrecen una amplia selección de vehículos revisados y garantizados, con opciones de financiación y la posibilidad de entregar el coche en toda la península.\n",
       "\n",
       "## Información Clave:\n",
       "\n",
       "*   **Propósito:** Venta de coches y motos de segunda mano y ocasión. También compran vehículos usados.\n",
       "*   **Ubicación:** Madrid (Collado Villalba, Leganés, Aravaca).\n",
       "*   **Vehículos Ofrecidos:**\n",
       "    *   **Marcas:** Amplia variedad, incluyendo Abarth, Audi, BMW, Citroen, Ford, Jaguar, Mercedes-Benz, Opel, Peugeot, Renault, Seat, Volkswagen, Volvo, entre otras.\n",
       "    *   **Modelos:** Diversos modelos de cada marca.\n",
       "    *   **Tipos de Vehículos:** Utilitarios, berlinas, familiares, todoterrenos, pickups, deportivos, descapotables, monovolúmenes, eléctricos, híbridos, campers, furgonetas y motocicletas.\n",
       "    *   **Kilometraje:** Variado, desde coches con pocos kilómetros hasta opciones con más de 300.000 km.\n",
       "    *   **Precios:** Diferentes rangos de precios, incluyendo opciones económicas y vehículos de lujo.\n",
       "*   **Servicios:**\n",
       "    *   Venta de coches y motos de ocasión.\n",
       "    *   Tasación y compra de vehículos usados.\n",
       "    *   Financiación.\n",
       "    *   Garantía y certificación de kilometraje.\n",
       "    *   Taller propio para revisión y reparación de vehículos.\n",
       "*   **Promociones:**\n",
       "    *   Ofertas especiales en coches y motos.\n",
       "    *   Liquidaciones.\n",
       "    *   Coches con IVA deducible.\n",
       "    *   Coches KM 0.\n",
       "*   **Horario Especial:**\n",
       "    *   El centro de Villalba abrirá el 12 de Octubre de 10 a 14:30 horas.\n"
      ],
      "text/plain": [
       "<IPython.core.display.Markdown object>"
      ]
     },
     "metadata": {},
     "output_type": "display_data"
    }
   ],
   "source": [
    "display_summary(novak_url)"
   ]
  }
 ],
 "metadata": {
  "kernelspec": {
   "display_name": "proyecto",
   "language": "python",
   "name": "python3"
  },
  "language_info": {
   "codemirror_mode": {
    "name": "ipython",
    "version": 3
   },
   "file_extension": ".py",
   "mimetype": "text/x-python",
   "name": "python",
   "nbconvert_exporter": "python",
   "pygments_lexer": "ipython3",
   "version": "3.13.7"
  }
 },
 "nbformat": 4,
 "nbformat_minor": 5
}
