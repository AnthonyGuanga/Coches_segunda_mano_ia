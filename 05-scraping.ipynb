{
 "cells": [
  {
   "cell_type": "markdown",
   "id": "c0b6482b",
   "metadata": {},
   "source": [
    "# Trabajo de contexto con scraping"
   ]
  },
  {
   "cell_type": "markdown",
   "id": "72a6d6ad",
   "metadata": {},
   "source": [
    "### Primero debemos hacer loigin en una plataforma"
   ]
  }
 ],
 "metadata": {
  "language_info": {
   "name": "python"
  }
 },
 "nbformat": 4,
 "nbformat_minor": 5
}
