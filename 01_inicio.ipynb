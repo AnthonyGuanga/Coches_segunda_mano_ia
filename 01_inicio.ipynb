{
 "cells": [
  {
   "cell_type": "markdown",
   "id": "abc7cd21",
   "metadata": {},
   "source": [
    "# COCHES DE SEGUNDA MANO\n",
    "\n"
   ]
  },
  {
   "cell_type": "markdown",
   "id": "261eb341",
   "metadata": {},
   "source": [
    "### ¿Qué se quiere predecir?\n",
    "\n",
    "El precio de venta del coche de segunda mano\n",
    "### ¿Qué se puede explicar?\n",
    "\n",
    "Factores que afectan el precio: ¿Cuáles son las características que más influyen en el precio? <br>\n",
    "Tendencias del mercado: ¿Qué marcas/modelos se devalúan más rápido? <br>\n",
    "Patrones de demanda: ¿Qué tipo de coches se venden más rápido? <br>"
   ]
  },
  {
   "cell_type": "code",
   "execution_count": null,
   "id": "61426c34",
   "metadata": {},
   "outputs": [
    {
     "name": "stdout",
     "output_type": "stream",
     "text": [
      "╒═════════╤══════════════╤═══════════╤════════════╤═════════════╤══════════════════╤════════════════════════╤═════════════════════════╤══════════════════╤════════════════╤════════════════════════════════════════════╕\n",
      "│ brand   │   model_date │     price │ currency   │ fuel_type   │ vehicle_engine   │ vehicle_transmission   │ mileage_from_odometer   │ item_condition   │ manufacturer   │ description                                │\n",
      "╞═════════╪══════════════╪═══════════╪════════════╪═════════════╪══════════════════╪════════════════════════╪═════════════════════════╪══════════════════╪════════════════╪════════════════════════════════════════════╡\n",
      "│ MG      │         2021 │ 6.525e+06 │ PKR        │ Petrol      │ 1490cc           │ Automatic              │ 6,000 km                │ used             │ MG             │ MG HS 2021 for sale in Lahore              │\n",
      "├─────────┼──────────────┼───────────┼────────────┼─────────────┼──────────────────┼────────────────────────┼─────────────────────────┼──────────────────┼────────────────┼────────────────────────────────────────────┤\n",
      "│ Toyota  │         2012 │ 1.625e+06 │ PKR        │ Petrol      │ 1000cc           │ Manual                 │ 68,000 km               │ used             │ Toyota         │ Toyota Aygo 2012 for sale in Islamabad     │\n",
      "├─────────┼──────────────┼───────────┼────────────┼─────────────┼──────────────────┼────────────────────────┼─────────────────────────┼──────────────────┼────────────────┼────────────────────────────────────────────┤\n",
      "│ Honda   │         2015 │ 2.55e+06  │ PKR        │ Petrol      │ 1300cc           │ Automatic              │ 150,000 km              │ used             │ Honda          │ Honda City 2015 for sale in Lahore         │\n",
      "├─────────┼──────────────┼───────────┼────────────┼─────────────┼──────────────────┼────────────────────────┼─────────────────────────┼──────────────────┼────────────────┼────────────────────────────────────────────┤\n",
      "│ KIA     │         2022 │ 9e+06     │ PKR        │ Petrol      │ 3500cc           │ Automatic              │ 18,000 km               │ used             │ KIA            │ KIA Sorento 2022 for sale in Sialkot       │\n",
      "├─────────┼──────────────┼───────────┼────────────┼─────────────┼──────────────────┼────────────────────────┼─────────────────────────┼──────────────────┼────────────────┼────────────────────────────────────────────┤\n",
      "│ Toyota  │         2015 │ 3.35e+06  │ PKR        │ Petrol      │ 1300cc           │ Automatic              │ 110,000 km              │ used             │ Toyota         │ Toyota Corolla 2015 for sale in Rawalpindi │\n",
      "├─────────┼──────────────┼───────────┼────────────┼─────────────┼──────────────────┼────────────────────────┼─────────────────────────┼──────────────────┼────────────────┼────────────────────────────────────────────┤\n",
      "│ Nissan  │         2004 │ 1.05e+06  │ PKR        │ Petrol      │ 1000cc           │ Automatic              │ 100,000 km              │ used             │ Nissan         │ Nissan March 2004 for sale in Karachi      │\n",
      "├─────────┼──────────────┼───────────┼────────────┼─────────────┼──────────────────┼────────────────────────┼─────────────────────────┼──────────────────┼────────────────┼────────────────────────────────────────────┤\n",
      "│ Honda   │         2021 │ 6.275e+06 │ PKR        │ Petrol      │ 1800cc           │ Automatic              │ 20,500 km               │ used             │ Honda          │ Honda Civic 2021 for sale in Islamabad     │\n",
      "├─────────┼──────────────┼───────────┼────────────┼─────────────┼──────────────────┼────────────────────────┼─────────────────────────┼──────────────────┼────────────────┼────────────────────────────────────────────┤\n",
      "│ Suzuki  │         2008 │ 1.025e+06 │ PKR        │ Petrol      │ 1000cc           │ Manual                 │ 25,025 km               │ used             │ Suzuki         │ Suzuki Cultus 2008 for sale in Islamabad   │\n",
      "├─────────┼──────────────┼───────────┼────────────┼─────────────┼──────────────────┼────────────────────────┼─────────────────────────┼──────────────────┼────────────────┼────────────────────────────────────────────┤\n",
      "│ Honda   │         2018 │ 3.15e+06  │ PKR        │ Petrol      │ 1300cc           │ Manual                 │ 88,000 km               │ used             │ Honda          │ Honda City 2018 for sale in Rawalpindi     │\n",
      "├─────────┼──────────────┼───────────┼────────────┼─────────────┼──────────────────┼────────────────────────┼─────────────────────────┼──────────────────┼────────────────┼────────────────────────────────────────────┤\n",
      "│ Honda   │         2018 │ 4.99e+06  │ PKR        │ Petrol      │ 1800cc           │ Automatic              │ 70,000 km               │ used             │ Honda          │ Honda Civic 2018 for sale in Rawalpindi    │\n",
      "╘═════════╧══════════════╧═══════════╧════════════╧═════════════╧══════════════════╧════════════════════════╧═════════════════════════╧══════════════════╧════════════════╧════════════════════════════════════════════╛\n"
     ]
    }
   ],
   "source": [
    "\n",
    "import pandas as pd\n",
    "from tabulate import tabulate\n",
    "\n",
    "df = pd.read_csv(\"datasets/used_car_dataset.csv\")\n",
    "\n",
    "if 'Unnamed: 0' in df.columns:\n",
    "    df = df.set_index('Unnamed: 0')\n",
    "\n",
    "# Selecciona y ordena columnas (ajusta a lo que tengas)\n",
    "cols = [c for c in [\n",
    "    'brand', 'model_date', 'price', 'currency',\n",
    "    'fuel_type', 'vehicle_engine', 'vehicle_transmission',\n",
    "    'mileage_from_odometer', 'item_condition', 'manufacturer', 'description'\n",
    "] if c in df.columns]\n",
    "df = df[cols]\n",
    "\n",
    "print(tabulate(df.head(10), headers='keys', tablefmt='fancy_grid', showindex=False))\n"
   ]
  },
  {
   "cell_type": "markdown",
   "id": "6fc42a56",
   "metadata": {},
   "source": [
    "## ¿Como diferenciar si el problema es de regresión, clasificación o clustering?"
   ]
  },
  {
   "cell_type": "markdown",
   "id": "b9377200",
   "metadata": {},
   "source": [
    "### Pregunta clave inicial"
   ]
  },
  {
   "cell_type": "markdown",
   "id": "caad71fb",
   "metadata": {},
   "source": [
    "| Pregunta de negocio                                   | Tipo de problema                               | Ejemplo de target / salida                       |\n",
    "|-------------------------------------------------------|------------------------------------------------|--------------------------------------------------|\n",
    "| ¿Cuál será el precio estimado de este coche?          | Regresión                                      | `price` (numérico continuo)                     |\n",
    "| ¿En qué categoría de precio cae (barato / medio / alto)? | Clasificación multiclase (derivada)          | `price_segment` (feature creado)                |\n",
    "| ¿Se venderá rápido (sí / no)?                         | Clasificación binaria                          | `fast_sale` (derivado de días de publicación)   |\n",
    "| ¿Qué grupos naturales de coches existen?              | Clustering (no supervisado)                    | (Sin target)                                    |\n",
    "| ¿Qué coches tienen precios anómalos?                  | Detección de anomalías (relacionado a clustering) | (Sin target)                                   |"
   ]
  },
  {
   "cell_type": "code",
   "execution_count": 6,
   "id": "bed01b47",
   "metadata": {},
   "outputs": [
    {
     "name": "stdout",
     "output_type": "stream",
     "text": [
      "MAE: 1,161,902.35\n"
     ]
    }
   ],
   "source": [
    "import pandas as pd\n",
    "from sklearn.model_selection import train_test_split\n",
    "from sklearn.preprocessing import OneHotEncoder\n",
    "from sklearn.compose import ColumnTransformer\n",
    "from sklearn.pipeline import Pipeline\n",
    "from sklearn.metrics import mean_absolute_error\n",
    "from sklearn.ensemble import RandomForestRegressor\n",
    "from datetime import datetime\n",
    "import numpy as np\n",
    "\n",
    "df = pd.read_csv(\"datasets/used_car_dataset.csv\")\n",
    "df = df[df['price'].notna()]\n",
    "\n",
    "if 'model_date' in df.columns:\n",
    "    df['model_date'] = pd.to_numeric(df['model_date'], errors='coerce')\n",
    "    df['vehicle_age'] = datetime.now().year - df['model_date']\n",
    "\n",
    "features = ['brand','mileage_from_odometer','vehicle_age','fuel_type',\n",
    "            'vehicle_transmission','item_condition']\n",
    "features = [f for f in features if f in df.columns]\n",
    "\n",
    "X = df[features]\n",
    "y = pd.to_numeric(df['price'], errors='coerce')\n",
    "mask = y.notna()\n",
    "X, y = X[mask], y[mask]\n",
    "\n",
    "num_cols = X.select_dtypes(include=[np.number]).columns.tolist()\n",
    "cat_cols = [c for c in X.columns if c not in num_cols]\n",
    "\n",
    "pre = ColumnTransformer([\n",
    "    ('num','passthrough', num_cols),\n",
    "    ('cat', OneHotEncoder(handle_unknown='ignore'), cat_cols)\n",
    "])\n",
    "\n",
    "model = Pipeline([\n",
    "    ('prep', pre),\n",
    "    ('reg', RandomForestRegressor(n_estimators=200, n_jobs=-1, random_state=42))\n",
    "])\n",
    "\n",
    "X_tr, X_val, y_tr, y_val = train_test_split(X, y, test_size=0.2, random_state=42)\n",
    "model.fit(X_tr, y_tr)\n",
    "pred = model.predict(X_val)\n",
    "mae = mean_absolute_error(y_val, pred)\n",
    "print(f\"MAE: {mae:,.2f}\")"
   ]
  }
 ],
 "metadata": {
  "kernelspec": {
   "display_name": "proyecto",
   "language": "python",
   "name": "python3"
  },
  "language_info": {
   "codemirror_mode": {
    "name": "ipython",
    "version": 3
   },
   "file_extension": ".py",
   "mimetype": "text/x-python",
   "name": "python",
   "nbconvert_exporter": "python",
   "pygments_lexer": "ipython3",
   "version": "3.13.7"
  }
 },
 "nbformat": 4,
 "nbformat_minor": 5
}
